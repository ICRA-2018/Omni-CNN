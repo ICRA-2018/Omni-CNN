{
 "cells": [
  {
   "cell_type": "markdown",
   "metadata": {},
   "source": [
    "# Omni-CNN\n",
    "Official implementation of \"Omnidirectional CNN for Visual Place Recognition and Navigation\", ICRA 2018.\n",
    "\n",
    "In Python 2.7 and Tensorflow 1.4."
   ]
  }
 ],

 "metadata": {
  "kernelspec": {
   "display_name": "Bash",
   "language": "bash",
   "name": "bash"
  },
  "language_info": {
   "codemirror_mode": "shell",
   "file_extension": ".sh",
   "mimetype": "text/x-sh",
   "name": "bash"
  }
 },
 "nbformat": 4,
 "nbformat_minor": 2
}
